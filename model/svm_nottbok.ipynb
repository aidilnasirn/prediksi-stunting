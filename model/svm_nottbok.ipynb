{
 "cells": [
  {
   "cell_type": "markdown",
   "id": "5ec4909e",
   "metadata": {},
   "source": []
  }
 ],
 "metadata": {
  "language_info": {
   "name": "python"
  }
 },
 "nbformat": 4,
 "nbformat_minor": 5
}
